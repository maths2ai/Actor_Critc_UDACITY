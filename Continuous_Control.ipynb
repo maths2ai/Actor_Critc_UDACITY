{
 "cells": [
  {
   "cell_type": "markdown",
   "metadata": {},
   "source": [
    "# Continuous Control\n",
    "\n",
    "---\n",
    "\n",
    "You are welcome to use this coding environment to train your agent for the project.  Follow the instructions below to get started!\n",
    "\n",
    "### 1. Start the Environment\n",
    "\n",
    "Run the next code cell to install a few packages.  This line will take a few minutes to run!"
   ]
  },
  {
   "cell_type": "code",
   "execution_count": 1,
   "metadata": {},
   "outputs": [
    {
     "name": "stdout",
     "output_type": "stream",
     "text": [
      "\u001b[31mtensorflow 1.7.1 has requirement numpy>=1.13.3, but you'll have numpy 1.12.1 which is incompatible.\u001b[0m\r\n",
      "\u001b[31mipython 6.5.0 has requirement prompt-toolkit<2.0.0,>=1.0.15, but you'll have prompt-toolkit 3.0.7 which is incompatible.\u001b[0m\r\n"
     ]
    }
   ],
   "source": [
    "!pip -q install ./python "
   ]
  },
  {
   "cell_type": "markdown",
   "metadata": {},
   "source": [
    "The environments corresponding to both versions of the environment are already saved in the Workspace and can be accessed at the file paths provided below.  \n",
    "\n",
    "Please select one of the two options below for loading the environment."
   ]
  },
  {
   "cell_type": "code",
   "execution_count": 2,
   "metadata": {},
   "outputs": [
    {
     "name": "stderr",
     "output_type": "stream",
     "text": [
      "INFO:unityagents:\n",
      "'Academy' started successfully!\n",
      "Unity Academy name: Academy\n",
      "        Number of Brains: 1\n",
      "        Number of External Brains : 1\n",
      "        Lesson number : 0\n",
      "        Reset Parameters :\n",
      "\t\tgoal_size -> 5.0\n",
      "\t\tgoal_speed -> 1.0\n",
      "Unity brain name: ReacherBrain\n",
      "        Number of Visual Observations (per agent): 0\n",
      "        Vector Observation space type: continuous\n",
      "        Vector Observation space size (per agent): 33\n",
      "        Number of stacked Vector Observation: 1\n",
      "        Vector Action space type: continuous\n",
      "        Vector Action space size (per agent): 4\n",
      "        Vector Action descriptions: , , , \n"
     ]
    }
   ],
   "source": [
    "from unityagents import UnityEnvironment\n",
    "import numpy as np\n",
    "\n",
    "# select this option to load version 1 (with a single agent) of the environment\n",
    "env = UnityEnvironment(file_name='/data/Reacher_One_Linux_NoVis/Reacher_One_Linux_NoVis.x86_64')\n",
    "\n",
    "# select this option to load version 2 (with 20 agents) of the environment\n",
    "# env = UnityEnvironment(file_name='/data/Reacher_Linux_NoVis/Reacher.x86_64')"
   ]
  },
  {
   "cell_type": "markdown",
   "metadata": {},
   "source": [
    "Environments contain **_brains_** which are responsible for deciding the actions of their associated agents. Here we check for the first brain available, and set it as the default brain we will be controlling from Python."
   ]
  },
  {
   "cell_type": "code",
   "execution_count": 3,
   "metadata": {},
   "outputs": [],
   "source": [
    "# get the default brain\n",
    "brain_name = env.brain_names[0]\n",
    "brain = env.brains[brain_name]"
   ]
  },
  {
   "cell_type": "markdown",
   "metadata": {},
   "source": [
    "### 2. Examine the State and Action Spaces\n",
    "\n",
    "Run the code cell below to print some information about the environment."
   ]
  },
  {
   "cell_type": "code",
   "execution_count": 4,
   "metadata": {},
   "outputs": [
    {
     "name": "stdout",
     "output_type": "stream",
     "text": [
      "Number of agents: 1\n",
      "Size of each action: 4\n",
      "There are 1 agents. Each observes a state with length: 33\n",
      "The state for the first agent looks like: [  0.00000000e+00  -4.00000000e+00   0.00000000e+00   1.00000000e+00\n",
      "  -0.00000000e+00  -0.00000000e+00  -4.37113883e-08   0.00000000e+00\n",
      "   0.00000000e+00   0.00000000e+00   0.00000000e+00   0.00000000e+00\n",
      "   0.00000000e+00   0.00000000e+00  -1.00000000e+01   0.00000000e+00\n",
      "   1.00000000e+00  -0.00000000e+00  -0.00000000e+00  -4.37113883e-08\n",
      "   0.00000000e+00   0.00000000e+00   0.00000000e+00   0.00000000e+00\n",
      "   0.00000000e+00   0.00000000e+00   5.75471878e+00  -1.00000000e+00\n",
      "   5.55726671e+00   0.00000000e+00   1.00000000e+00   0.00000000e+00\n",
      "  -1.68164849e-01]\n"
     ]
    }
   ],
   "source": [
    "# reset the environment\n",
    "env_info = env.reset(train_mode=True)[brain_name]\n",
    "\n",
    "# number of agents\n",
    "num_agents = len(env_info.agents)\n",
    "print('Number of agents:', num_agents)\n",
    "\n",
    "# size of each action\n",
    "action_size = brain.vector_action_space_size\n",
    "print('Size of each action:', action_size)\n",
    "\n",
    "# examine the state space \n",
    "states = env_info.vector_observations\n",
    "state_size = states.shape[1]\n",
    "print('There are {} agents. Each observes a state with length: {}'.format(states.shape[0], state_size))\n",
    "print('The state for the first agent looks like:', states[0])"
   ]
  },
  {
   "cell_type": "code",
   "execution_count": 5,
   "metadata": {},
   "outputs": [
    {
     "data": {
      "text/plain": [
       "4"
      ]
     },
     "execution_count": 5,
     "metadata": {},
     "output_type": "execute_result"
    }
   ],
   "source": [
    "brain.vector_action_space_size"
   ]
  },
  {
   "cell_type": "code",
   "execution_count": 6,
   "metadata": {},
   "outputs": [
    {
     "data": {
      "text/plain": [
       "33"
      ]
     },
     "execution_count": 6,
     "metadata": {},
     "output_type": "execute_result"
    }
   ],
   "source": [
    "brain.vector_observation_space_size"
   ]
  },
  {
   "cell_type": "markdown",
   "metadata": {},
   "source": [
    "### 3. Take Random Actions in the Environment\n",
    "\n",
    "In the next code cell, you will learn how to use the Python API to control the agent and receive feedback from the environment.\n",
    "\n",
    "Note that **in this coding environment, you will not be able to watch the agents while they are training**, and you should set `train_mode=True` to restart the environment."
   ]
  },
  {
   "cell_type": "code",
   "execution_count": 7,
   "metadata": {},
   "outputs": [
    {
     "name": "stdout",
     "output_type": "stream",
     "text": [
      "Total score (averaged over agents) this episode: 0.03999999910593033\n"
     ]
    }
   ],
   "source": [
    "env_info = env.reset(train_mode=True)[brain_name]      # reset the environment    \n",
    "states = env_info.vector_observations                  # get the current state (for each agent)\n",
    "scores = np.zeros(num_agents)                          # initialize the score (for each agent)\n",
    "while True:\n",
    "    actions = np.random.randn(num_agents, action_size) # select an action (for each agent)\n",
    "    actions = np.clip(actions, -1, 1)                  # all actions between -1 and 1\n",
    "    env_info = env.step(actions)[brain_name]           # send all actions to tne environment\n",
    "    next_states = env_info.vector_observations         # get next state (for each agent)\n",
    "    rewards = env_info.rewards                         # get reward (for each agent)\n",
    "    dones = env_info.local_done                        # see if episode finished\n",
    "    scores += env_info.rewards                         # update the score (for each agent)\n",
    "    states = next_states                               # roll over states to next time step\n",
    "    if np.any(dones):                                  # exit loop if episode finished\n",
    "        break\n",
    "print('Total score (averaged over agents) this episode: {}'.format(np.mean(scores)))"
   ]
  },
  {
   "cell_type": "markdown",
   "metadata": {},
   "source": [
    "When finished, you can close the environment."
   ]
  },
  {
   "cell_type": "code",
   "execution_count": null,
   "metadata": {},
   "outputs": [],
   "source": [
    "env.close()"
   ]
  },
  {
   "cell_type": "markdown",
   "metadata": {},
   "source": [
    "### 4. It's Your Turn!\n",
    "\n",
    "Now it's your turn to train your own agent to solve the environment!  A few **important notes**:\n",
    "- When training the environment, set `train_mode=True`, so that the line for resetting the environment looks like the following:\n",
    "```python\n",
    "env_info = env.reset(train_mode=True)[brain_name]\n",
    "```\n",
    "- To structure your work, you're welcome to work directly in this Jupyter notebook, or you might like to start over with a new file!  You can see the list of files in the workspace by clicking on **_Jupyter_** in the top left corner of the notebook.\n",
    "- In this coding environment, you will not be able to watch the agents while they are training.  However, **_after training the agents_**, you can download the saved model weights to watch the agents on your own machine! "
   ]
  },
  {
   "cell_type": "code",
   "execution_count": 8,
   "metadata": {},
   "outputs": [],
   "source": [
    "# Importing section\n",
    "\n",
    "import torch\n",
    "import torch.nn as nn\n",
    "import torch.nn.functional as F\n",
    "import torch.optim as optim\n",
    "\n",
    "import random\n",
    "import numpy as np\n",
    "import copy\n",
    "\n",
    "from collections import deque"
   ]
  },
  {
   "cell_type": "markdown",
   "metadata": {},
   "source": [
    "# Device Selection"
   ]
  },
  {
   "cell_type": "code",
   "execution_count": 21,
   "metadata": {},
   "outputs": [],
   "source": [
    "device = torch.device('cuda:0' if torch.cuda.is_available() else 'cpu')"
   ]
  },
  {
   "cell_type": "markdown",
   "metadata": {},
   "source": [
    "# Hyper-Parameters"
   ]
  },
  {
   "cell_type": "code",
   "execution_count": 22,
   "metadata": {},
   "outputs": [],
   "source": [
    "BUFFER_SIZE = int(1e6)  \n",
    "BATCH_SIZE = 128        \n",
    "GAMMA = 0.99            \n",
    "TAU = 1e-3          \n",
    "LR_ACTOR = 1e-4         \n",
    "LR_CRITIC = 1e-4        \n",
    "WEIGHT_DECAY = 0   \n",
    "UPDATE_FREQUENCY = 1\n",
    "NUM_UPDATES = 1"
   ]
  },
  {
   "cell_type": "markdown",
   "metadata": {},
   "source": [
    "# Buffer"
   ]
  },
  {
   "cell_type": "code",
   "execution_count": 23,
   "metadata": {},
   "outputs": [],
   "source": [
    "class Replay_Buffer():\n",
    "    def __init__(self, capacity, batch_size, seed):\n",
    "        self.capacity = capacity\n",
    "        self.batch_size = batch_size\n",
    "        self.seed = random.seed(seed)\n",
    "        self.buffer = deque(maxlen = self.capacity)\n",
    "        return\n",
    "    \n",
    "    def add(self, state, action, reward, next_state, is_done):\n",
    "        self.buffer.append((state, action, reward, next_state, is_done))\n",
    "        return\n",
    "    \n",
    "    def sample(self):\n",
    "        batch = random.sample(self.buffer, k = self.batch_size)\n",
    "        \n",
    "        states, actions, rewards, next_states, is_dones = zip(*batch)\n",
    "        \n",
    "        states = torch.FloatTensor(states).view(self.batch_size, -1).to(device)\n",
    "        actions = torch.FloatTensor(actions).view(self.batch_size, -1).to(device)\n",
    "        rewards = torch.FloatTensor(rewards).view(self.batch_size, -1).to(device)\n",
    "        next_states = torch.FloatTensor(next_states).view(self.batch_size, -1).to(device)\n",
    "        is_dones = torch.FloatTensor(np.float32(is_dones)).view(self.batch_size, -1).to(device)\n",
    "        \n",
    "        return (states, actions, rewards, next_states, is_dones)\n",
    "    \n",
    "    def __len__(self):\n",
    "        return len(self.buffer)    "
   ]
  },
  {
   "cell_type": "markdown",
   "metadata": {},
   "source": [
    "# Noise\n",
    "\n",
    "### Used to add exploration to our policy"
   ]
  },
  {
   "cell_type": "code",
   "execution_count": 24,
   "metadata": {},
   "outputs": [],
   "source": [
    "class OUNoise():\n",
    "    def __init__(self, size, seed , mu = 0., theta = 0.15, sigma =0.2):\n",
    "        self.mu = mu * np.ones(size)\n",
    "        self.theta = theta\n",
    "        self.sigma = sigma\n",
    "        self.seed = random.seed(seed)\n",
    "        self.reset()\n",
    "        return\n",
    "    \n",
    "    def reset(self):\n",
    "        self.state = copy.copy(self.mu)\n",
    "\n",
    "    def sample(self):\n",
    "        x = self.state\n",
    "        dx = self.theta * (self.mu - x) + self.sigma * np.array([random.random() for i in range(len(x))])\n",
    "        self.state = x + dx\n",
    "        return self.state"
   ]
  },
  {
   "cell_type": "markdown",
   "metadata": {},
   "source": [
    "# Nets for the Agent\n",
    "\n",
    "### In this part of the code we are going to set the nets to train our Robot Arm"
   ]
  },
  {
   "cell_type": "code",
   "execution_count": 57,
   "metadata": {},
   "outputs": [],
   "source": [
    "class Actor(nn.Module):\n",
    "    def __init__(self, input_size, hidden_sizes, output_size, seed):\n",
    "        super (Actor, self).__init__()\n",
    "        self.seed = torch.manual_seed(seed)\n",
    "        self.input_size = input_size\n",
    "        self.output_size = output_size\n",
    "        self.hidden_sizes = hidden_sizes\n",
    "        \n",
    "        self.Linear_1 = nn.Linear(self.input_size, self.hidden_sizes[0])\n",
    "        self.Linear_2 = nn.Linear(self.hidden_sizes[0], self.hidden_sizes[1])\n",
    "        #self.Linear_3 = nn.Linear(self.hidden_sizes[1], self.hidden_sizes[2])\n",
    "        self.Linear_4 = nn.Linear(self.hidden_sizes[1], self.output_size)\n",
    "        \n",
    "        self.relu = nn.ReLU()\n",
    "        \n",
    "        self.reset_parameters()\n",
    "        return\n",
    "    \n",
    "    def reset_parameters(self):\n",
    "        # This is useful to initialize parameters\n",
    "        normalization_factor_1 = self.Linear_1.weight.data.size()[0]\n",
    "        value_1 = 1. / np.sqrt(normalization_factor_1)\n",
    "        self.Linear_1.weight.data.uniform_(-value_1, value_1)\n",
    "        \n",
    "        normalization_factor_2 = self.Linear_2.weight.data.size()[0]\n",
    "        value_2 = 1. / np.sqrt(normalization_factor_2)\n",
    "        self.Linear_2.weight.data.uniform_(-value_2, value_2)\n",
    "        \n",
    "        #normalization_factor_3 = self.Linear_3.weight.data.size()[0]\n",
    "        #value_3 = 1. / np.sqrt(normalization_factor_3)\n",
    "        #self.Linear_3.weight.data.uniform_(-value_3, value_3)\n",
    "        \n",
    "        self.Linear_4.weight.data.uniform_(-3e-3, 3e-3)\n",
    "        return\n",
    "    \n",
    "    def forward(self, state):\n",
    "        state = self.relu(self.Linear_1(state))\n",
    "        state = self.relu(self.Linear_2(state))\n",
    "        #state = self.relu(self.Linear_3(state))\n",
    "        actions = torch.tanh(self.Linear_4(state))\n",
    "        return actions\n",
    "    \n",
    "class Critic(nn.Module):\n",
    "    def __init__(self, input_size, hidden_sizes, output_size, seed):\n",
    "        super(Critic, self).__init__()\n",
    "        self.seed = torch.manual_seed(seed)\n",
    "        self.input_size = input_size\n",
    "        self.output_size = output_size\n",
    "        self.hidden_sizes = hidden_sizes\n",
    "            \n",
    "        self.Linear_1 = nn.Linear(self.input_size, self.hidden_sizes[0])\n",
    "        self.Linear_2 = nn.Linear(self.hidden_sizes[0] + self.output_size, self.hidden_sizes[1])\n",
    "        #self.Linear_3 = nn.Linear(self.hidden_sizes[1], self.hidden_sizes[2])\n",
    "        #self.Linear_4 = nn.Linear(self.hidden_sizes[2], self.hidden_sizes[3])\n",
    "        self.Linear_5 = nn.Linear(self.hidden_sizes[1], 1)\n",
    "            \n",
    "        # CHECK! NOTICE HERE THEY USE LEAKY RELU\n",
    "        self.relu = nn.ReLU()\n",
    "            \n",
    "        self.reset_parameters()\n",
    "        return\n",
    "            \n",
    "    def reset_parameters(self):\n",
    "        normalization_factor_1 = self.Linear_1.weight.data.size()[0]\n",
    "        value_1 = 1. / np.sqrt(normalization_factor_1)\n",
    "        self.Linear_1.weight.data.uniform_(-value_1, value_1)\n",
    "        \n",
    "        normalization_factor_2 = self.Linear_2.weight.data.size()[0]\n",
    "        value_2 = 1. / np.sqrt(normalization_factor_2)\n",
    "        self.Linear_2.weight.data.uniform_(-value_2, value_2)\n",
    "            \n",
    "        #normalization_factor_3 = self.Linear_3.weight.data.size()[0]\n",
    "        #value_3 = 1. / np.sqrt(normalization_factor_3)\n",
    "        #self.Linear_3.weight.data.uniform_(-value_3, value_3)\n",
    "        \n",
    "        #normalization_factor_4 = self.Linear_4.weight.data.size()[0]\n",
    "        #value_4 = 1. / np.sqrt(normalization_factor_4)\n",
    "        #self.Linear_4.weight.data.uniform_(-value_3, value_3)\n",
    "        \n",
    "        self.Linear_5.weight.data.uniform_(-3e-3, 3e-3)\n",
    "        return\n",
    "        \n",
    "    def forward(self, state, action):\n",
    "        state = F.leaky_relu(self.Linear_1(state))\n",
    "        state_action = torch.cat((state, action), dim = 1)\n",
    "        state = F.leaky_relu(self.Linear_2(state_action))\n",
    "        #state = F.leaky_relu(self.Linear_3(state))\n",
    "        #state = self.relu(self.Linear_4(state))\n",
    "        state = self.Linear_5(state)\n",
    "            \n",
    "        return state       "
   ]
  },
  {
   "cell_type": "markdown",
   "metadata": {},
   "source": [
    "# Agent"
   ]
  },
  {
   "cell_type": "code",
   "execution_count": 58,
   "metadata": {},
   "outputs": [],
   "source": [
    "class Agent():\n",
    "    def __init__(self, input_size, output_size, hidden_sizes_actor, hidden_sizes_critic, random_seed):\n",
    "        \n",
    "        self.input_size = input_size\n",
    "        self.output_size = output_size\n",
    "        self.hidden_sizes_actor = hidden_sizes_actor\n",
    "        self.hidden_sizes_critic = hidden_sizes_critic\n",
    "        self.seed = random.seed(random_seed)\n",
    "        \n",
    "        # Notice. It is not important to initialize the actor and the critic targets since by default actor and actor_tg, and similarly critic and critic_tg,\n",
    "        # have the same weights\n",
    "        self.actor = Actor(self.input_size, self.hidden_sizes_actor, self.output_size, random_seed).to(device)\n",
    "        self.actor_tg = Actor(self.input_size, self.hidden_sizes_actor, self.output_size, random_seed).to(device)\n",
    "        \n",
    "        self.critic = Critic(self.input_size, self.hidden_sizes_critic, self.output_size, random_seed).to(device)\n",
    "        self.critic_tg = Critic(self.input_size, self.hidden_sizes_critic, self.output_size, random_seed).to(device)\n",
    "        \n",
    "        self.actor_optimizer = optim.Adam (self.actor.parameters(), lr = LR_ACTOR)\n",
    "        self.critic_optimizer = optim.Adam (self.critic.parameters(), lr = LR_CRITIC)\n",
    "        \n",
    "        self.noise = OUNoise(self.output_size, random_seed)\n",
    "        self.buffer = Replay_Buffer(BUFFER_SIZE, BATCH_SIZE, random_seed)\n",
    "    \n",
    "    def act(self, state, parameter_noise = True):\n",
    "        state = torch.FloatTensor(state).to(device)\n",
    "        self.actor.eval()\n",
    "        \n",
    "        with torch.no_grad():\n",
    "            action = self.actor(state).cpu().data.numpy()\n",
    "        \n",
    "        self.actor.train()\n",
    "        \n",
    "        if parameter_noise == True:\n",
    "            action += self.noise.sample()\n",
    "            \n",
    "        return  np.clip(action, -1, 1)\n",
    "    \n",
    "    def reset(self):\n",
    "        self.noise.reset()\n",
    "        \n",
    "    def step(self, state, action, reward, next_state, is_done, count):\n",
    "        self.buffer.add(state, action, reward, next_state, is_done)\n",
    "    \n",
    "        if (len(self.buffer) > BATCH_SIZE) and (count % UPDATE_FREQUENCY == 0):\n",
    "            policy_loss = 0\n",
    "            critic_loss = 0\n",
    "            \n",
    "            for i in range(NUM_UPDATES):\n",
    "                batch = self.buffer.sample()\n",
    "                policy_loss_temp, critic_loss_temp = self.learn(batch, GAMMA)\n",
    "                \n",
    "                policy_loss += policy_loss_temp\n",
    "                critic_loss += critic_loss_temp\n",
    "            \n",
    "            return policy_loss, critic_loss\n",
    "    \n",
    "    def learn(self, batch, gamma):\n",
    "        states = batch[0]\n",
    "        actions = batch[1]\n",
    "        rewards = batch[2]\n",
    "        next_states = batch[3]\n",
    "        is_dones = batch[4]\n",
    "        \n",
    "        # UPDATING CRITIC\n",
    "        \n",
    "        # Target Values of the Critic\n",
    "        \n",
    "        next_actions = self.actor_tg(next_states)\n",
    "        Q_next_states = self.critic_tg(next_states, next_actions)\n",
    "        Q_targets = rewards + GAMMA * Q_next_states * (1.0 - is_dones)\n",
    "        \n",
    "        # Q_values \n",
    "        \n",
    "        Q_values = self.critic(states, actions)\n",
    "        critic_loss = F.mse_loss(Q_targets.detach(), Q_values)\n",
    "        \n",
    "        # Updates\n",
    "        \n",
    "        self.critic_optimizer.zero_grad()\n",
    "        critic_loss.backward()\n",
    "        torch.nn.utils.clip_grad_norm_(self.critic.parameters(), 1)\n",
    "        self.critic_optimizer.step()\n",
    "        \n",
    "        # UPDATING POLICY\n",
    "        \n",
    "        actions_pred = self.actor(states)\n",
    "        Q = self.critic(states, actions_pred)\n",
    "        policy_loss = -Q.mean()\n",
    "        \n",
    "        self.actor_optimizer.zero_grad()\n",
    "        policy_loss.backward()\n",
    "        self.actor_optimizer.step()\n",
    "        \n",
    "        # SOFT_UPDATE\n",
    "        \n",
    "        self.soft_update(self.actor, self.actor_tg, TAU)\n",
    "        self.soft_update(self.critic, self.critic_tg, TAU)\n",
    "        \n",
    "        return policy_loss, critic_loss\n",
    "        \n",
    "    def soft_update(self, net, net_tg, TAU):\n",
    "        \n",
    "        for target_param, local_param in zip(net_tg.parameters(), net.parameters()):\n",
    "            target_param.data.copy_(TAU*local_param.data + (1.0-TAU)*target_param.data)\n",
    "            \n",
    "        return       "
   ]
  },
  {
   "cell_type": "markdown",
   "metadata": {},
   "source": [
    "# Instatiating all the necessary objects"
   ]
  },
  {
   "cell_type": "code",
   "execution_count": 59,
   "metadata": {},
   "outputs": [],
   "source": [
    "hidden_layers_actor = [256, 128]"
   ]
  },
  {
   "cell_type": "code",
   "execution_count": 60,
   "metadata": {},
   "outputs": [],
   "source": [
    "hidden_layers_critic = [256, 128]"
   ]
  },
  {
   "cell_type": "code",
   "execution_count": 61,
   "metadata": {},
   "outputs": [],
   "source": [
    "agent = Agent(brain.vector_observation_space_size, brain.vector_action_space_size, hidden_layers_actor, hidden_layers_critic, 1)"
   ]
  },
  {
   "cell_type": "code",
   "execution_count": 26,
   "metadata": {},
   "outputs": [],
   "source": [
    "agent.actor.load_state_dict(torch.load('checkpoint_actor.pth'))\n",
    "agent.critic.load_state_dict(torch.load('checkpoint_critic.pth'))\n",
    "agent.actor_tg.load_state_dict(torch.load('checkpoint_actor.pth'))\n",
    "agent.critic_tg.load_state_dict(torch.load('checkpoint_critic.pth'))\n",
    "agent.buffer = torch.load('checkpoint_buffer.pth')"
   ]
  },
  {
   "cell_type": "code",
   "execution_count": 43,
   "metadata": {},
   "outputs": [
    {
     "name": "stdout",
     "output_type": "stream",
     "text": [
      "200200\n"
     ]
    }
   ],
   "source": [
    "print(len(agent.buffer))"
   ]
  },
  {
   "cell_type": "markdown",
   "metadata": {},
   "source": [
    "# DDPG main"
   ]
  },
  {
   "cell_type": "code",
   "execution_count": 75,
   "metadata": {},
   "outputs": [],
   "source": [
    "def main(num_episodes):\n",
    "    count = 1\n",
    "    scores = []\n",
    "    scores_deque = deque(maxlen = 100)\n",
    "    policy_losses = []\n",
    "    critic_losses = []\n",
    "    \n",
    "    for i in range(1, num_episodes + 1):\n",
    "        env_info = env.reset(train_mode=True)[brain_name]      # reset the environment    \n",
    "        state = env_info.vector_observations                  # get the current state (for each agent)\n",
    "        score = 0\n",
    "        agent.reset() # Resetting the noice\n",
    "        \n",
    "        while True:\n",
    "            action = agent.act(state)\n",
    "            env_info = env.step(action)[brain_name]           \n",
    "            next_state = env_info.vector_observations         \n",
    "            reward = env_info.rewards\n",
    "\n",
    "            if reward[0]>0: \n",
    "                reward = reward[0]*10 + 0.1 \n",
    "            else:\n",
    "                reward = 0\n",
    "          \n",
    "            is_done = env_info.local_done   \n",
    "            \n",
    "            agent.step(state, action, reward, next_state, is_done,count)\n",
    "            \n",
    "            if reward>0: \n",
    "                reward = 0.1 \n",
    "            else:\n",
    "                reward = 0\n",
    "       \n",
    "            #print('episode {} reward {}'.format(i, reward))\n",
    "            score += reward                     \n",
    "            state = next_state \n",
    "            \n",
    "            if np.any(is_done):\n",
    "                scores.append(score)\n",
    "                scores_deque.append(score)\n",
    "                print('At episode {} the score obtained is {}'.format(i, score))\n",
    "      \n",
    "                count += 1\n",
    "                break\n",
    "            \n",
    "            count += 1\n",
    "        \n",
    "        if i%10 == 0:\n",
    "            temp = scores[-10:]\n",
    "            print( 'Score mean ', np.mean(temp))\n",
    "        if i % 100 == 0:\n",
    "            torch.save(agent.actor.state_dict(), 'checkpoint_actor.pth')\n",
    "            torch.save(agent.critic.state_dict(), 'checkpoint_critic.pth')\n",
    "            print('\\n### Episode {}\\tAverage Score: {:.2f} ###\\n'.format(i, np.mean(scores_deque)))   \n",
    "\n",
    "        if len(scores_deque) == 100 and (np.mean(scores_deque) >= 30):\n",
    "            print('The environment was solved')\n",
    "            torch.save(agent.actor.state_dict(), 'checkpoint_actor.pth')\n",
    "            torch.save(agent.critic.state_dict(), 'checkpoint_critic.pth')\n",
    "            return scores                "
   ]
  },
  {
   "cell_type": "code",
   "execution_count": 79,
   "metadata": {},
   "outputs": [
    {
     "name": "stdout",
     "output_type": "stream",
     "text": [
      "At episode 1 the score obtained is 24.70000000000008\n",
      "At episode 2 the score obtained is 33.0000000000002\n",
      "At episode 3 the score obtained is 30.800000000000168\n",
      "At episode 4 the score obtained is 30.700000000000166\n",
      "At episode 5 the score obtained is 37.20000000000026\n",
      "At episode 6 the score obtained is 30.20000000000016\n",
      "At episode 7 the score obtained is 35.30000000000023\n",
      "At episode 8 the score obtained is 24.400000000000077\n",
      "At episode 9 the score obtained is 31.200000000000173\n",
      "At episode 10 the score obtained is 37.90000000000027\n",
      "Score mean  31.54\n",
      "At episode 11 the score obtained is 31.100000000000172\n",
      "At episode 12 the score obtained is 32.30000000000019\n",
      "At episode 13 the score obtained is 33.80000000000021\n",
      "At episode 14 the score obtained is 29.50000000000015\n",
      "At episode 15 the score obtained is 33.90000000000021\n",
      "At episode 16 the score obtained is 33.70000000000021\n",
      "At episode 17 the score obtained is 28.700000000000138\n",
      "At episode 18 the score obtained is 78.09999999999984\n",
      "At episode 19 the score obtained is 36.40000000000025\n",
      "At episode 20 the score obtained is 35.30000000000023\n",
      "Score mean  37.28\n",
      "At episode 21 the score obtained is 39.20000000000029\n",
      "At episode 22 the score obtained is 24.800000000000082\n",
      "At episode 23 the score obtained is 34.900000000000226\n",
      "At episode 24 the score obtained is 39.800000000000296\n",
      "At episode 25 the score obtained is 37.80000000000027\n",
      "At episode 26 the score obtained is 25.800000000000097\n",
      "At episode 27 the score obtained is 31.60000000000018\n",
      "At episode 28 the score obtained is 18.599999999999994\n",
      "At episode 29 the score obtained is 27.600000000000122\n",
      "At episode 30 the score obtained is 32.40000000000019\n",
      "Score mean  31.25\n",
      "At episode 31 the score obtained is 41.40000000000032\n",
      "At episode 32 the score obtained is 26.500000000000107\n",
      "At episode 33 the score obtained is 27.600000000000122\n",
      "At episode 34 the score obtained is 29.800000000000153\n",
      "At episode 35 the score obtained is 30.20000000000016\n",
      "At episode 36 the score obtained is 34.100000000000215\n",
      "At episode 37 the score obtained is 22.60000000000005\n",
      "At episode 38 the score obtained is 66.00000000000053\n",
      "At episode 39 the score obtained is 57.70000000000055\n",
      "At episode 40 the score obtained is 39.30000000000029\n",
      "Score mean  37.52\n",
      "At episode 41 the score obtained is 32.60000000000019\n",
      "At episode 42 the score obtained is 30.500000000000163\n",
      "At episode 43 the score obtained is 32.800000000000196\n",
      "At episode 44 the score obtained is 32.50000000000019\n",
      "At episode 45 the score obtained is 27.40000000000012\n",
      "At episode 46 the score obtained is 30.20000000000016\n",
      "At episode 47 the score obtained is 30.20000000000016\n",
      "At episode 48 the score obtained is 32.100000000000186\n",
      "At episode 49 the score obtained is 44.20000000000036\n",
      "At episode 50 the score obtained is 43.40000000000035\n",
      "Score mean  33.59\n",
      "At episode 51 the score obtained is 25.000000000000085\n",
      "At episode 52 the score obtained is 35.30000000000023\n",
      "At episode 53 the score obtained is 17.59999999999998\n",
      "At episode 54 the score obtained is 28.500000000000135\n",
      "At episode 55 the score obtained is 23.700000000000067\n",
      "At episode 56 the score obtained is 33.90000000000021\n",
      "At episode 57 the score obtained is 33.500000000000206\n",
      "At episode 58 the score obtained is 38.300000000000274\n",
      "At episode 59 the score obtained is 32.50000000000019\n",
      "At episode 60 the score obtained is 29.50000000000015\n",
      "Score mean  29.78\n",
      "At episode 61 the score obtained is 35.20000000000023\n",
      "At episode 62 the score obtained is 33.60000000000021\n",
      "At episode 63 the score obtained is 30.500000000000163\n",
      "At episode 64 the score obtained is 35.40000000000023\n",
      "At episode 65 the score obtained is 29.300000000000146\n",
      "At episode 66 the score obtained is 29.200000000000145\n",
      "At episode 67 the score obtained is 40.60000000000031\n",
      "At episode 68 the score obtained is 23.800000000000068\n",
      "At episode 69 the score obtained is 39.30000000000029\n",
      "At episode 70 the score obtained is 37.90000000000027\n",
      "Score mean  33.48\n",
      "At episode 71 the score obtained is 35.00000000000023\n",
      "At episode 72 the score obtained is 40.400000000000304\n",
      "At episode 73 the score obtained is 32.700000000000195\n",
      "At episode 74 the score obtained is 41.800000000000324\n",
      "At episode 75 the score obtained is 28.600000000000136\n",
      "At episode 76 the score obtained is 34.60000000000022\n",
      "At episode 77 the score obtained is 27.40000000000012\n",
      "At episode 78 the score obtained is 26.70000000000011\n",
      "At episode 79 the score obtained is 31.00000000000017\n",
      "At episode 80 the score obtained is 24.300000000000075\n",
      "Score mean  32.25\n",
      "At episode 81 the score obtained is 23.20000000000006\n",
      "At episode 82 the score obtained is 26.500000000000107\n",
      "At episode 83 the score obtained is 21.90000000000004\n",
      "At episode 84 the score obtained is 26.80000000000011\n",
      "At episode 85 the score obtained is 29.800000000000153\n",
      "At episode 86 the score obtained is 28.600000000000136\n",
      "At episode 87 the score obtained is 36.300000000000246\n",
      "At episode 88 the score obtained is 41.30000000000032\n",
      "At episode 89 the score obtained is 26.1000000000001\n",
      "At episode 90 the score obtained is 46.100000000000385\n",
      "Score mean  30.66\n",
      "At episode 91 the score obtained is 32.000000000000185\n",
      "At episode 92 the score obtained is 40.60000000000031\n",
      "At episode 93 the score obtained is 23.500000000000064\n",
      "At episode 94 the score obtained is 19.80000000000001\n",
      "At episode 95 the score obtained is 26.1000000000001\n",
      "At episode 96 the score obtained is 26.0000000000001\n",
      "At episode 97 the score obtained is 38.50000000000028\n",
      "At episode 98 the score obtained is 50.80000000000045\n",
      "At episode 99 the score obtained is 29.700000000000152\n",
      "At episode 100 the score obtained is 25.500000000000092\n",
      "Score mean  31.25\n",
      "\n",
      "### Episode 100\tAverage Score: 32.86 ###\n",
      "\n",
      "The environment was solved\n"
     ]
    }
   ],
   "source": [
    "scores = main(200)"
   ]
  },
  {
   "cell_type": "code",
   "execution_count": 80,
   "metadata": {},
   "outputs": [],
   "source": [
    "import matplotlib.pyplot as plt"
   ]
  },
  {
   "cell_type": "code",
   "execution_count": 81,
   "metadata": {},
   "outputs": [
    {
     "data": {
      "image/png": "[encoded data removed]",
      "text/plain": [
       "<matplotlib.figure.Figure at 0x7fe34638f828>"
      ]
     },
     "metadata": {
      "needs_background": "light"
     },
     "output_type": "display_data"
    }
   ],
   "source": [
    "fig = plt.figure()\n",
    "ax = fig.add_subplot(111)\n",
    "plt.plot(np.arange(1, len(scores)+1), scores)\n",
    "plt.ylabel('Score')\n",
    "plt.xlabel('Episode #')\n",
    "plt.show()"
   ]
  },
  {
   "cell_type": "markdown",
   "metadata": {},
   "source": [
    "# Prio Buffer"
   ]
  },
  {
   "cell_type": "code",
   "execution_count": 11,
   "metadata": {},
   "outputs": [],
   "source": [
    "class Replay_Buffer(object):\n",
    "    def __init__(self, capacity, batch_size, prob_alpha=0.6):\n",
    "        self.prob_alpha = prob_alpha\n",
    "        self.capacity   = capacity\n",
    "        self.batch_size = batch_size\n",
    "        self.buffer     = []\n",
    "        self.pos        = 0\n",
    "        self.priorities = np.zeros((capacity,), dtype=np.float32)\n",
    "    \n",
    "    def add(self, state, action, reward, next_state, is_done):\n",
    "        \n",
    "        max_prio = self.priorities.max() if self.buffer else 1.0\n",
    "        \n",
    "        \n",
    "        if len(self.buffer) < self.capacity:\n",
    "            self.buffer.append((state, action, reward, next_state, is_done))\n",
    "        else:\n",
    "            self.buffer[self.pos] = (state, action, reward, next_state, is_done)\n",
    "        \n",
    "        self.priorities[self.pos] = max_prio\n",
    "        self.pos = (self.pos + 1) % self.capacity\n",
    "\n",
    "    def sample(self,  beta=0.4):\n",
    "        if len(self.buffer) == self.capacity:\n",
    "            prios = self.priorities\n",
    "        else:\n",
    "            prios = self.priorities[:self.pos]\n",
    "        \n",
    "        probs  = prios ** self.prob_alpha\n",
    "        probs /= probs.sum()\n",
    "        \n",
    "        indices = np.random.choice(len(self.buffer), self.batch_size, p=probs)\n",
    "        samples = [self.buffer[idx] for idx in indices]\n",
    "        \n",
    "        total    = len(self.buffer)\n",
    "        weights  = (total * probs[indices]) ** (-beta)\n",
    "        weights /= weights.max()\n",
    "        weights  = np.array(weights, dtype=np.float32)\n",
    "        \n",
    "        states, actions, rewards, next_states, is_dones = zip(*samples)\n",
    "        \n",
    "        states = torch.FloatTensor(states).view(self.batch_size, -1).to(device)\n",
    "        actions = torch.FloatTensor(actions).view(self.batch_size, -1).to(device)\n",
    "        rewards = torch.FloatTensor(rewards).view(self.batch_size, -1).to(device)\n",
    "        next_states = torch.FloatTensor(next_states).view(self.batch_size, -1).to(device)\n",
    "        is_dones = torch.FloatTensor(np.float32(is_dones)).view(self.batch_size, -1).to(device)\n",
    "        weights = torch.FloatTensor(weights).view(self.batch_size, -1).to(device)\n",
    "    \n",
    "        return (states, actions, rewards, next_states, is_dones, indices, weights)\n",
    "    \n",
    "    def update_priorities(self, batch_indices, batch_priorities):\n",
    "        for idx, prio in zip(batch_indices, batch_priorities):\n",
    "            self.priorities[idx] = prio\n",
    "\n",
    "    def __len__(self):\n",
    "        return len(self.buffer)"
   ]
  },
  {
   "cell_type": "markdown",
   "metadata": {},
   "source": [
    "# Beta Function"
   ]
  },
  {
   "cell_type": "code",
   "execution_count": 12,
   "metadata": {},
   "outputs": [],
   "source": [
    "def beta_function (number, beta_start = 0.4):\n",
    "    return min(1.0, beta_start + number * (1.0 - beta_start) / 1000)"
   ]
  },
  {
   "cell_type": "markdown",
   "metadata": {},
   "source": [
    "# Agent_for_replay"
   ]
  },
  {
   "cell_type": "code",
   "execution_count": 15,
   "metadata": {},
   "outputs": [],
   "source": [
    "class Agent():\n",
    "    def __init__(self, input_size, output_size, hidden_sizes_actor, hidden_sizes_critic, random_seed):\n",
    "        \n",
    "        self.input_size = input_size\n",
    "        self.output_size = output_size\n",
    "        self.hidden_sizes_actor = hidden_sizes_actor\n",
    "        self.hidden_sizes_critic = hidden_sizes_critic\n",
    "        self.seed = random.seed(random_seed)\n",
    "        \n",
    "        # Notice. It is not important to initialize the actor and the critic targets since by default actor and actor_tg, and similarly critic and critic_tg,\n",
    "        # have the same weights\n",
    "        self.actor = Actor(self.input_size, self.hidden_sizes_actor, self.output_size, random_seed).to(device)\n",
    "        self.actor_tg = Actor(self.input_size, self.hidden_sizes_actor, self.output_size, random_seed).to(device)\n",
    "        \n",
    "        self.critic = Critic(self.input_size, self.hidden_sizes_critic, self.output_size, random_seed).to(device)\n",
    "        self.critic_tg = Critic(self.input_size, self.hidden_sizes_critic, self.output_size, random_seed).to(device)\n",
    "        \n",
    "        self.actor_optimizer = optim.Adam (self.actor.parameters(), lr = LR_ACTOR)\n",
    "        self.critic_optimizer = optim.Adam (self.critic.parameters(), lr = LR_CRITIC, weight_decay = WEIGHT_DECAY)\n",
    "        \n",
    "        self.noise = OUNoise(self.output_size, random_seed)\n",
    "        self.buffer = Replay_Buffer(BUFFER_SIZE, BATCH_SIZE, random_seed)\n",
    "    \n",
    "    def act(self, state, parameter_noise = True):\n",
    "        state = torch.FloatTensor(state).to(device)\n",
    "        self.actor.eval()\n",
    "        \n",
    "        with torch.no_grad():\n",
    "            action = self.actor(state).cpu().data.numpy()\n",
    "        \n",
    "        self.actor.train()\n",
    "        \n",
    "        if parameter_noise == True:\n",
    "            action += self.noise.sample()\n",
    "            \n",
    "        return  np.clip(action, -1, 1)\n",
    "    \n",
    "    def reset(self):\n",
    "        self.noise.reset()\n",
    "        \n",
    "    def step(self, state, action, reward, next_state, is_done, count, beta):\n",
    "        self.buffer.add(state, action, reward, next_state, is_done)\n",
    "        \n",
    "        if (len(self.buffer) > BATCH_SIZE) and (count % UPDATE_FREQUENCY == 0):\n",
    "\n",
    "            policy_loss = 0\n",
    "            critic_loss = 0\n",
    "            \n",
    "            for i in range(NUM_UPDATES):\n",
    "                batch = self.buffer.sample(beta)\n",
    "                policy_loss_temp, critic_loss_temp = self.learn(batch, GAMMA, beta)\n",
    "                \n",
    "                policy_loss += policy_loss_temp\n",
    "                critic_loss += critic_loss_temp\n",
    "            \n",
    "            return policy_loss, critic_loss\n",
    "        return None, None\n",
    "    \n",
    "    def learn(self, batch, gamma, beta):\n",
    "        states = batch[0]\n",
    "        actions = batch[1]\n",
    "        rewards = batch[2]\n",
    "        next_states = batch[3]\n",
    "        is_dones = batch[4]\n",
    "        indices = batch[5]\n",
    "        weights = batch[6]\n",
    "        #print(rewards.dtype)\n",
    "        \n",
    "        # UPDATING CRITIC\n",
    "\n",
    "        # Target Values of the Critic\n",
    "        \n",
    "        next_actions = self.actor_tg(next_states)\n",
    "        Q_next_states = self.critic_tg(next_states, next_actions)\n",
    "        Q_targets = rewards + GAMMA * Q_next_states * (1.0 - is_dones)\n",
    "        \n",
    "        # Q_values \n",
    "        \n",
    "        Q_values = self.critic(states, actions)\n",
    "        critic_loss = (Q_values - Q_targets.detach()).pow(2) * weights\n",
    "        prios = critic_loss + 1e-5\n",
    "        critic_loss  = critic_loss.mean()\n",
    "        \n",
    "        # Updates\n",
    "        \n",
    "        self.critic_optimizer.zero_grad()\n",
    "        critic_loss.backward()\n",
    "        torch.nn.utils.clip_grad_norm(self.critic.parameters(), 1)\n",
    "        self.buffer.update_priorities(indices, prios.data.cpu().numpy())\n",
    "        self.critic_optimizer.step()\n",
    "        \n",
    "        # UPDATING POLICY\n",
    "        \n",
    "        actions = self.actor(states)\n",
    "        Q_targets = self.critic(states, actions)\n",
    "        policy_loss = -Q_targets.mean()\n",
    "        \n",
    "        self.actor_optimizer.zero_grad()\n",
    "        policy_loss.backward()\n",
    "        torch.nn.utils.clip_grad_norm(self.actor.parameters(), 1)\n",
    "        self.actor_optimizer.step()\n",
    "        \n",
    "        # SOFT_UPDATE\n",
    "        \n",
    "        self.soft_update(self.actor, self.actor_tg, TAU)\n",
    "        self.soft_update(self.critic, self.critic_tg, TAU)\n",
    "        \n",
    "        return policy_loss, critic_loss\n",
    "        \n",
    "    def soft_update(self, net, net_tg, tau):\n",
    "        \n",
    "        for param, param_tg in zip(net.parameters(), net_tg.parameters()):\n",
    "            param_tg.data.copy_( param.data + TAU * (param_tg.data - param.data))\n",
    "            \n",
    "        return       "
   ]
  },
  {
   "cell_type": "markdown",
   "metadata": {},
   "source": [
    "# Main For Replay"
   ]
  },
  {
   "cell_type": "code",
   "execution_count": 73,
   "metadata": {},
   "outputs": [],
   "source": [
    "def main(num_episodes):\n",
    "    count = 1\n",
    "    scores = []\n",
    "    scores_deque = deque(maxlen = 100)\n",
    "    policy_losses = []\n",
    "    critic_losses = []\n",
    "    \n",
    "    for i in range(1, num_episodes + 1):\n",
    "        env_info = env.reset(train_mode=True)[brain_name]      # reset the environment    \n",
    "        state = env_info.vector_observations                  # get the current state (for each agent)\n",
    "        score = 0\n",
    "        agent.reset() # Resetting the noice\n",
    "        \n",
    "        while True:\n",
    "            action = agent.act(state)\n",
    "            env_info = env.step(action)[brain_name]           \n",
    "            next_state = env_info.vector_observations         \n",
    "            reward = env_info.rewards\n",
    "            \n",
    "            # Normalizing  the reward since it was not spitting out the right one\n",
    "            if reward[0]>0: \n",
    "                reward = 1 + reward[0]*10 \n",
    "            else:\n",
    "                reward = 0.0\n",
    "   \n",
    "            is_done = env_info.local_done   \n",
    "            \n",
    "            beta = beta_function(count)\n",
    "            agent.step(state, action, reward, next_state, is_done, count, beta)\n",
    "            \n",
    "            \n",
    "       \n",
    "            #print('episode {} reward {}'.format(i, reward))\n",
    "            \n",
    "            if reward > 0:\n",
    "                reward = 0.1\n",
    "                \n",
    "            score += reward                     \n",
    "            state = next_state \n",
    "            \n",
    "            if np.any(is_done):\n",
    "                scores.append(score)\n",
    "                scores_deque.append(score)\n",
    "                print('At episode {} the score obtained is {}'.format(i, score))\n",
    "      \n",
    "                count += 1\n",
    "                break\n",
    "            \n",
    "            count += 1\n",
    "            \n",
    "        if i % 100 == 0:\n",
    "            torch.save(agent.actor.state_dict(), 'checkpoint_actor.pth')\n",
    "            torch.save(agent.critic.state_dict(), 'checkpoint_critic.pth')\n",
    "            torch.save(agent.buffer, 'checkpoint_buffer.pth')\n",
    "            print('\\n### Episode {}\\tAverage Score: {:.2f} ###\\n'.format(i, np.mean(scores_deque)))   \n",
    "\n",
    "        if len(scores_deque) == 100 and (np.mean(scores_deque) >= 30):\n",
    "            print('The environment was solved')\n",
    "            torch.save(agent.actor.state_dict(), 'checkpoint_actor.pth')\n",
    "            torch.save(agent.critic.state_dict(), 'checkpoint_critic.pth')\n",
    "            return scores          "
   ]
  }
 ],
 "metadata": {
  "kernelspec": {
   "display_name": "Python 3",
   "language": "python",
   "name": "python3"
  },
  "language_info": {
   "codemirror_mode": {
    "name": "ipython",
    "version": 3
   },
   "file_extension": ".py",
   "mimetype": "text/x-python",
   "name": "python",
   "nbconvert_exporter": "python",
   "pygments_lexer": "ipython3",
   "version": "3.6.3"
  }
 },
 "nbformat": 4,
 "nbformat_minor": 2
}

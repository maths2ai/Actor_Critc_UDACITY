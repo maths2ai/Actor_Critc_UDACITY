{
 "cells": [
  {
   "cell_type": "markdown",
   "metadata": {},
   "source": [
    "# Continuous Control\n",
    "\n",
    "---\n",
    "\n",
    "You are welcome to use this coding environment to train your agent for the project.  Follow the instructions below to get started!\n",
    "\n",
    "### 1. Start the Environment\n",
    "\n",
    "Run the next code cell to install a few packages.  This line will take a few minutes to run!"
   ]
  },
  {
   "cell_type": "code",
   "execution_count": 1,
   "metadata": {},
   "outputs": [
    {
     "name": "stdout",
     "output_type": "stream",
     "text": [
      "\u001b[31mtensorflow 1.7.1 has requirement numpy>=1.13.3, but you'll have numpy 1.12.1 which is incompatible.\u001b[0m\r\n",
      "\u001b[31mipython 6.5.0 has requirement prompt-toolkit<2.0.0,>=1.0.15, but you'll have prompt-toolkit 3.0.7 which is incompatible.\u001b[0m\r\n"
     ]
    }
   ],
   "source": [
    "!pip -q install ./python "
   ]
  },
  {
   "cell_type": "markdown",
   "metadata": {},
   "source": [
    "The environments corresponding to both versions of the environment are already saved in the Workspace and can be accessed at the file paths provided below.  \n",
    "\n",
    "Please select one of the two options below for loading the environment."
   ]
  },
  {
   "cell_type": "markdown",
   "metadata": {},
   "source": [
    "# Start Running Cells from here onwards"
   ]
  },
  {
   "cell_type": "code",
   "execution_count": 2,
   "metadata": {},
   "outputs": [
    {
     "name": "stderr",
     "output_type": "stream",
     "text": [
      "INFO:unityagents:\n",
      "'Academy' started successfully!\n",
      "Unity Academy name: Academy\n",
      "        Number of Brains: 1\n",
      "        Number of External Brains : 1\n",
      "        Lesson number : 0\n",
      "        Reset Parameters :\n",
      "\t\tgoal_speed -> 1.0\n",
      "\t\tgoal_size -> 5.0\n",
      "Unity brain name: ReacherBrain\n",
      "        Number of Visual Observations (per agent): 0\n",
      "        Vector Observation space type: continuous\n",
      "        Vector Observation space size (per agent): 33\n",
      "        Number of stacked Vector Observation: 1\n",
      "        Vector Action space type: continuous\n",
      "        Vector Action space size (per agent): 4\n",
      "        Vector Action descriptions: , , , \n"
     ]
    }
   ],
   "source": [
    "from unityagents import UnityEnvironment\n",
    "import numpy as np\n",
    "\n",
    "# select this option to load version 1 (with a single agent) of the environment\n",
    "env = UnityEnvironment(file_name='/data/Reacher_One_Linux_NoVis/Reacher_One_Linux_NoVis.x86_64')\n",
    "\n",
    "# select this option to load version 2 (with 20 agents) of the environment\n",
    "# env = UnityEnvironment(file_name='/data/Reacher_Linux_NoVis/Reacher.x86_64')"
   ]
  },
  {
   "cell_type": "markdown",
   "metadata": {},
   "source": [
    "Environments contain **_brains_** which are responsible for deciding the actions of their associated agents. Here we check for the first brain available, and set it as the default brain we will be controlling from Python."
   ]
  },
  {
   "cell_type": "code",
   "execution_count": 3,
   "metadata": {},
   "outputs": [],
   "source": [
    "# get the default brain\n",
    "brain_name = env.brain_names[0]\n",
    "brain = env.brains[brain_name]"
   ]
  },
  {
   "cell_type": "markdown",
   "metadata": {},
   "source": [
    "### 2. Examine the State and Action Spaces\n",
    "\n",
    "Run the code cell below to print some information about the environment."
   ]
  },
  {
   "cell_type": "code",
   "execution_count": 4,
   "metadata": {},
   "outputs": [
    {
     "name": "stdout",
     "output_type": "stream",
     "text": [
      "Number of agents: 1\n",
      "Size of each action: 4\n",
      "There are 1 agents. Each observes a state with length: 33\n",
      "The state for the first agent looks like: [  0.00000000e+00  -4.00000000e+00   0.00000000e+00   1.00000000e+00\n",
      "  -0.00000000e+00  -0.00000000e+00  -4.37113883e-08   0.00000000e+00\n",
      "   0.00000000e+00   0.00000000e+00   0.00000000e+00   0.00000000e+00\n",
      "   0.00000000e+00   0.00000000e+00  -1.00000000e+01   0.00000000e+00\n",
      "   1.00000000e+00  -0.00000000e+00  -0.00000000e+00  -4.37113883e-08\n",
      "   0.00000000e+00   0.00000000e+00   0.00000000e+00   0.00000000e+00\n",
      "   0.00000000e+00   0.00000000e+00   5.75471878e+00  -1.00000000e+00\n",
      "   5.55726671e+00   0.00000000e+00   1.00000000e+00   0.00000000e+00\n",
      "  -1.68164849e-01]\n"
     ]
    }
   ],
   "source": [
    "# reset the environment\n",
    "env_info = env.reset(train_mode=True)[brain_name]\n",
    "\n",
    "# number of agents\n",
    "num_agents = len(env_info.agents)\n",
    "print('Number of agents:', num_agents)\n",
    "\n",
    "# size of each action\n",
    "action_size = brain.vector_action_space_size\n",
    "print('Size of each action:', action_size)\n",
    "\n",
    "# examine the state space \n",
    "states = env_info.vector_observations\n",
    "state_size = states.shape[1]\n",
    "print('There are {} agents. Each observes a state with length: {}'.format(states.shape[0], state_size))\n",
    "print('The state for the first agent looks like:', states[0])"
   ]
  },
  {
   "cell_type": "code",
   "execution_count": 5,
   "metadata": {},
   "outputs": [
    {
     "data": {
      "text/plain": [
       "4"
      ]
     },
     "execution_count": 5,
     "metadata": {},
     "output_type": "execute_result"
    }
   ],
   "source": [
    "brain.vector_action_space_size"
   ]
  },
  {
   "cell_type": "code",
   "execution_count": 6,
   "metadata": {},
   "outputs": [
    {
     "data": {
      "text/plain": [
       "33"
      ]
     },
     "execution_count": 6,
     "metadata": {},
     "output_type": "execute_result"
    }
   ],
   "source": [
    "brain.vector_observation_space_size"
   ]
  },
  {
   "cell_type": "markdown",
   "metadata": {},
   "source": [
    "### 3. Take Random Actions in the Environment\n",
    "\n",
    "In the next code cell, you will learn how to use the Python API to control the agent and receive feedback from the environment.\n",
    "\n",
    "Note that **in this coding environment, you will not be able to watch the agents while they are training**, and you should set `train_mode=True` to restart the environment."
   ]
  },
  {
   "cell_type": "code",
   "execution_count": 7,
   "metadata": {},
   "outputs": [
    {
     "name": "stdout",
     "output_type": "stream",
     "text": [
      "Total score (averaged over agents) this episode: 0.0\n"
     ]
    }
   ],
   "source": [
    "env_info = env.reset(train_mode=True)[brain_name]      # reset the environment    \n",
    "states = env_info.vector_observations                  # get the current state (for each agent)\n",
    "scores = np.zeros(num_agents)                          # initialize the score (for each agent)\n",
    "while True:\n",
    "    actions = np.random.randn(num_agents, action_size) # select an action (for each agent)\n",
    "    actions = np.clip(actions, -1, 1)                  # all actions between -1 and 1\n",
    "    env_info = env.step(actions)[brain_name]           # send all actions to tne environment\n",
    "    next_states = env_info.vector_observations         # get next state (for each agent)\n",
    "    rewards = env_info.rewards                         # get reward (for each agent)\n",
    "    dones = env_info.local_done                        # see if episode finished\n",
    "    scores += env_info.rewards                         # update the score (for each agent)\n",
    "    states = next_states                               # roll over states to next time step\n",
    "    if np.any(dones):                                  # exit loop if episode finished\n",
    "        break\n",
    "print('Total score (averaged over agents) this episode: {}'.format(np.mean(scores)))"
   ]
  },
  {
   "cell_type": "markdown",
   "metadata": {},
   "source": [
    "When finished, you can close the environment."
   ]
  },
  {
   "cell_type": "code",
   "execution_count": null,
   "metadata": {},
   "outputs": [],
   "source": [
    "env.close()"
   ]
  },
  {
   "cell_type": "markdown",
   "metadata": {},
   "source": [
    "### 4. It's Your Turn!\n",
    "\n",
    "Now it's your turn to train your own agent to solve the environment!  A few **important notes**:\n",
    "- When training the environment, set `train_mode=True`, so that the line for resetting the environment looks like the following:\n",
    "```python\n",
    "env_info = env.reset(train_mode=True)[brain_name]\n",
    "```\n",
    "- To structure your work, you're welcome to work directly in this Jupyter notebook, or you might like to start over with a new file!  You can see the list of files in the workspace by clicking on **_Jupyter_** in the top left corner of the notebook.\n",
    "- In this coding environment, you will not be able to watch the agents while they are training.  However, **_after training the agents_**, you can download the saved model weights to watch the agents on your own machine! "
   ]
  },
  {
   "cell_type": "code",
   "execution_count": 8,
   "metadata": {},
   "outputs": [],
   "source": [
    "# Importing section\n",
    "\n",
    "import torch\n",
    "import torch.nn as nn\n",
    "import torch.nn.functional as F\n",
    "import torch.optim as optim\n",
    "\n",
    "import random\n",
    "import numpy as np\n",
    "import copy\n",
    "\n",
    "from collections import deque"
   ]
  },
  {
   "cell_type": "markdown",
   "metadata": {},
   "source": [
    "# Device Selection"
   ]
  },
  {
   "cell_type": "code",
   "execution_count": 9,
   "metadata": {},
   "outputs": [],
   "source": [
    "device = torch.device('cuda:0' if torch.cuda.is_available() else 'cpu')"
   ]
  },
  {
   "cell_type": "markdown",
   "metadata": {},
   "source": [
    "# Hyper-Parameters"
   ]
  },
  {
   "cell_type": "code",
   "execution_count": 10,
   "metadata": {},
   "outputs": [],
   "source": [
    "BUFFER_SIZE = int(1e6)  \n",
    "BATCH_SIZE = 128        \n",
    "GAMMA = 0.99            \n",
    "TAU = 1e-3          \n",
    "LR_ACTOR = 1e-4         \n",
    "LR_CRITIC = 1e-4        \n",
    "WEIGHT_DECAY = 0   \n",
    "UPDATE_FREQUENCY = 1\n",
    "NUM_UPDATES = 1"
   ]
  },
  {
   "cell_type": "markdown",
   "metadata": {},
   "source": [
    "# Buffer"
   ]
  },
  {
   "cell_type": "code",
   "execution_count": 11,
   "metadata": {},
   "outputs": [],
   "source": [
    "class Replay_Buffer():\n",
    "    def __init__(self, capacity, batch_size, seed):\n",
    "        self.capacity = capacity\n",
    "        self.batch_size = batch_size\n",
    "        self.seed = random.seed(seed)\n",
    "        self.buffer = deque(maxlen = self.capacity)\n",
    "        return\n",
    "    \n",
    "    def add(self, state, action, reward, next_state, is_done):\n",
    "        self.buffer.append((state, action, reward, next_state, is_done))\n",
    "        return\n",
    "    \n",
    "    def sample(self):\n",
    "        batch = random.sample(self.buffer, k = self.batch_size)\n",
    "        \n",
    "        states, actions, rewards, next_states, is_dones = zip(*batch)\n",
    "        \n",
    "        states = torch.FloatTensor(states).view(self.batch_size, -1).to(device)\n",
    "        actions = torch.FloatTensor(actions).view(self.batch_size, -1).to(device)\n",
    "        rewards = torch.FloatTensor(rewards).view(self.batch_size, -1).to(device)\n",
    "        next_states = torch.FloatTensor(next_states).view(self.batch_size, -1).to(device)\n",
    "        is_dones = torch.FloatTensor(np.float32(is_dones)).view(self.batch_size, -1).to(device)\n",
    "        \n",
    "        return (states, actions, rewards, next_states, is_dones)\n",
    "    \n",
    "    def __len__(self):\n",
    "        return len(self.buffer)    "
   ]
  },
  {
   "cell_type": "markdown",
   "metadata": {},
   "source": [
    "# Noise\n",
    "\n",
    "### Used to add exploration to our policy"
   ]
  },
  {
   "cell_type": "code",
   "execution_count": 12,
   "metadata": {},
   "outputs": [],
   "source": [
    "class OUNoise():\n",
    "    def __init__(self, size, seed , mu = 0., theta = 0.10, sigma =0.2):\n",
    "        self.mu = mu * np.ones(size)\n",
    "        self.theta = theta\n",
    "        self.sigma = sigma\n",
    "        self.seed = random.seed(seed)\n",
    "        self.reset()\n",
    "        return\n",
    "    \n",
    "    def reset(self):\n",
    "        self.state = copy.copy(self.mu)\n",
    "\n",
    "    def sample(self):\n",
    "        x = self.state\n",
    "        dx = self.theta * (self.mu - x) + self.sigma * np.array([np.random.randn() for i in range(len(x))])\n",
    "        self.state = x + dx\n",
    "        return self.state"
   ]
  },
  {
   "cell_type": "markdown",
   "metadata": {},
   "source": [
    "# Nets for the Agent\n",
    "\n",
    "### In this part of the code we are going to set the nets to train our Robot Arm"
   ]
  },
  {
   "cell_type": "code",
   "execution_count": 13,
   "metadata": {},
   "outputs": [],
   "source": [
    "class Actor(nn.Module):\n",
    "    def __init__(self, input_size, hidden_sizes, output_size, seed):\n",
    "        super (Actor, self).__init__()\n",
    "        self.seed = torch.manual_seed(seed)\n",
    "        self.input_size = input_size\n",
    "        self.output_size = output_size\n",
    "        self.hidden_sizes = hidden_sizes\n",
    "        \n",
    "        self.Linear_1 = nn.Linear(self.input_size, self.hidden_sizes[0])\n",
    "        self.Linear_2 = nn.Linear(self.hidden_sizes[0], self.hidden_sizes[1])\n",
    "        #self.Linear_3 = nn.Linear(self.hidden_sizes[1], self.hidden_sizes[2])\n",
    "        self.Linear_4 = nn.Linear(self.hidden_sizes[1], self.output_size)\n",
    "        self.bn0 = nn.BatchNorm1d(self.input_size)\n",
    "        self.bn1 = nn.BatchNorm1d(self.hidden_sizes[0])\n",
    "        self.bn2 = nn.BatchNorm1d(self.hidden_sizes[1])\n",
    "        \n",
    "        self.relu = nn.ReLU()\n",
    "        \n",
    "        self.reset_parameters()\n",
    "        return\n",
    "    \n",
    "    def reset_parameters(self):\n",
    "        # This is useful to initialize parameters\n",
    "        normalization_factor_1 = self.Linear_1.weight.data.size()[0]\n",
    "        value_1 = 1. / np.sqrt(normalization_factor_1)\n",
    "        self.Linear_1.weight.data.uniform_(-value_1, value_1)\n",
    "        \n",
    "        normalization_factor_2 = self.Linear_2.weight.data.size()[0]\n",
    "        value_2 = 1. / np.sqrt(normalization_factor_2)\n",
    "        self.Linear_2.weight.data.uniform_(-value_2, value_2)\n",
    "        \n",
    "        #normalization_factor_3 = self.Linear_3.weight.data.size()[0]\n",
    "        #value_3 = 1. / np.sqrt(normalization_factor_3)\n",
    "        #self.Linear_3.weight.data.uniform_(-value_3, value_3)\n",
    "        \n",
    "        self.Linear_4.weight.data.uniform_(-3e-3, 3e-3)\n",
    "        return\n",
    "    \n",
    "    def forward(self, state):\n",
    "        state = self.relu(self.Linear_1(self.bn0(state)))\n",
    "        state = self.relu(self.Linear_2(self.bn1(state)))\n",
    "        #state = self.relu(self.Linear_3(state))\n",
    "        actions = torch.tanh(self.Linear_4(self.bn2(state)))\n",
    "        return actions\n",
    "    \n",
    "class Critic(nn.Module):\n",
    "    def __init__(self, input_size, hidden_sizes, output_size, seed):\n",
    "        super(Critic, self).__init__()\n",
    "        self.seed = torch.manual_seed(seed)\n",
    "        self.input_size = input_size\n",
    "        self.output_size = output_size\n",
    "        self.hidden_sizes = hidden_sizes\n",
    "            \n",
    "        self.Linear_1 = nn.Linear(self.input_size, self.hidden_sizes[0])\n",
    "        self.Linear_2 = nn.Linear(self.hidden_sizes[0] + self.output_size, self.hidden_sizes[1])\n",
    "        #self.Linear_3 = nn.Linear(self.hidden_sizes[1], self.hidden_sizes[2])\n",
    "        #self.Linear_4 = nn.Linear(self.hidden_sizes[2], self.hidden_sizes[3])\n",
    "        self.Linear_5 = nn.Linear(self.hidden_sizes[1], 1)\n",
    "        self.bn0 = nn.BatchNorm1d(self.input_size)\n",
    "        #self.bn1 = nn.BatchNorm1d(self.hidden_sizes[0] + self.output_size)\n",
    "            \n",
    "        # CHECK! NOTICE HERE THEY USE LEAKY RELU\n",
    "        self.relu = nn.ReLU()\n",
    "            \n",
    "        self.reset_parameters()\n",
    "        return\n",
    "            \n",
    "    def reset_parameters(self):\n",
    "        normalization_factor_1 = self.Linear_1.weight.data.size()[0]\n",
    "        value_1 = 1. / np.sqrt(normalization_factor_1)\n",
    "        self.Linear_1.weight.data.uniform_(-value_1, value_1)\n",
    "        \n",
    "        normalization_factor_2 = self.Linear_2.weight.data.size()[0]\n",
    "        value_2 = 1. / np.sqrt(normalization_factor_2)\n",
    "        self.Linear_2.weight.data.uniform_(-value_2, value_2)\n",
    "            \n",
    "        #normalization_factor_3 = self.Linear_3.weight.data.size()[0]\n",
    "        #value_3 = 1. / np.sqrt(normalization_factor_3)\n",
    "        #self.Linear_3.weight.data.uniform_(-value_3, value_3)\n",
    "        \n",
    "        #normalization_factor_4 = self.Linear_4.weight.data.size()[0]\n",
    "        #value_4 = 1. / np.sqrt(normalization_factor_4)\n",
    "        #self.Linear_4.weight.data.uniform_(-value_3, value_3)\n",
    "        \n",
    "        self.Linear_5.weight.data.uniform_(-3e-3, 3e-3)\n",
    "        return\n",
    "        \n",
    "    def forward(self, state, action):\n",
    "        state = F.leaky_relu(self.Linear_1(self.bn0(state)))\n",
    "        state_action = torch.cat((state, action), dim = 1)\n",
    "        state = F.leaky_relu(self.Linear_2(state_action))\n",
    "        #state = F.leaky_relu(self.Linear_3(state))\n",
    "        #state = self.relu(self.Linear_4(state))\n",
    "        state = self.Linear_5(state)\n",
    "            \n",
    "        return state       "
   ]
  },
  {
   "cell_type": "markdown",
   "metadata": {},
   "source": [
    "# Agent"
   ]
  },
  {
   "cell_type": "code",
   "execution_count": 14,
   "metadata": {},
   "outputs": [],
   "source": [
    "class Agent():\n",
    "    def __init__(self, input_size, output_size, hidden_sizes_actor, hidden_sizes_critic, random_seed):\n",
    "        \n",
    "        self.input_size = input_size\n",
    "        self.output_size = output_size\n",
    "        self.hidden_sizes_actor = hidden_sizes_actor\n",
    "        self.hidden_sizes_critic = hidden_sizes_critic\n",
    "        self.seed = random.seed(random_seed)\n",
    "        \n",
    "        # Notice. It is not important to initialize the actor and the critic targets since by default actor and actor_tg, and similarly critic and critic_tg,\n",
    "        # have the same weights\n",
    "        self.actor = Actor(self.input_size, self.hidden_sizes_actor, self.output_size, random_seed).to(device)\n",
    "        self.actor_tg = Actor(self.input_size, self.hidden_sizes_actor, self.output_size, random_seed).to(device)\n",
    "        \n",
    "        self.critic = Critic(self.input_size, self.hidden_sizes_critic, self.output_size, random_seed).to(device)\n",
    "        self.critic_tg = Critic(self.input_size, self.hidden_sizes_critic, self.output_size, random_seed).to(device)\n",
    "        \n",
    "        self.actor_optimizer = optim.Adam (self.actor.parameters(), lr = LR_ACTOR)\n",
    "        self.critic_optimizer = optim.Adam (self.critic.parameters(), lr = LR_CRITIC)\n",
    "        \n",
    "        self.noise = OUNoise(self.output_size, random_seed)\n",
    "        self.buffer = Replay_Buffer(BUFFER_SIZE, BATCH_SIZE, random_seed)\n",
    "    \n",
    "    def act(self, state, parameter_noise = True):\n",
    "        state = torch.FloatTensor(state).to(device)\n",
    "        self.actor.eval()\n",
    "        \n",
    "        with torch.no_grad():\n",
    "            action = self.actor(state).cpu().data.numpy()\n",
    "        \n",
    "        self.actor.train()\n",
    "        \n",
    "        if parameter_noise == True:\n",
    "            action += self.noise.sample()\n",
    "            \n",
    "        return  np.clip(action, -1, 1)\n",
    "    \n",
    "    def reset(self):\n",
    "        self.noise.reset()\n",
    "        \n",
    "    def step(self, state, action, reward, next_state, is_done, count):\n",
    "        self.buffer.add(state, action, reward, next_state, is_done)\n",
    "    \n",
    "        if (len(self.buffer) > BATCH_SIZE) and (count % UPDATE_FREQUENCY == 0):\n",
    "            policy_loss = 0\n",
    "            critic_loss = 0\n",
    "            \n",
    "            for i in range(NUM_UPDATES):\n",
    "                batch = self.buffer.sample()\n",
    "                policy_loss_temp, critic_loss_temp = self.learn(batch, GAMMA)\n",
    "                \n",
    "                policy_loss += policy_loss_temp\n",
    "                critic_loss += critic_loss_temp\n",
    "            \n",
    "            return policy_loss, critic_loss\n",
    "    \n",
    "    def learn(self, batch, gamma):\n",
    "        states = batch[0]\n",
    "        actions = batch[1]\n",
    "        rewards = batch[2]\n",
    "        next_states = batch[3]\n",
    "        is_dones = batch[4]\n",
    "        \n",
    "        # UPDATING CRITIC\n",
    "        \n",
    "        # Target Values of the Critic\n",
    "        \n",
    "        next_actions = self.actor_tg(next_states)\n",
    "        Q_next_states = self.critic_tg(next_states, next_actions)\n",
    "        Q_targets = rewards + GAMMA * Q_next_states * (1.0 - is_dones)\n",
    "        \n",
    "        # Q_values \n",
    "        \n",
    "        Q_values = self.critic(states, actions)\n",
    "        critic_loss = F.mse_loss(Q_targets.detach(), Q_values)\n",
    "        \n",
    "        # Updates\n",
    "        \n",
    "        self.critic_optimizer.zero_grad()\n",
    "        critic_loss.backward()\n",
    "        torch.nn.utils.clip_grad_norm_(self.critic.parameters(), 1)\n",
    "        self.critic_optimizer.step()\n",
    "        \n",
    "        # UPDATING POLICY\n",
    "        \n",
    "        actions_pred = self.actor(states)\n",
    "        Q = self.critic(states, actions_pred)\n",
    "        policy_loss = -Q.mean()\n",
    "        \n",
    "        self.actor_optimizer.zero_grad()\n",
    "        policy_loss.backward()\n",
    "        self.actor_optimizer.step()\n",
    "        \n",
    "        # SOFT_UPDATE\n",
    "        \n",
    "        self.soft_update(self.actor, self.actor_tg, TAU)\n",
    "        self.soft_update(self.critic, self.critic_tg, TAU)\n",
    "        \n",
    "        return policy_loss, critic_loss\n",
    "        \n",
    "    def soft_update(self, net, net_tg, TAU):\n",
    "        \n",
    "        for target_param, local_param in zip(net_tg.parameters(), net.parameters()):\n",
    "            target_param.data.copy_(TAU*local_param.data + (1.0-TAU)*target_param.data)\n",
    "            \n",
    "        return       "
   ]
  },
  {
   "cell_type": "markdown",
   "metadata": {},
   "source": [
    "# Instatiating all the necessary objects"
   ]
  },
  {
   "cell_type": "code",
   "execution_count": 15,
   "metadata": {},
   "outputs": [],
   "source": [
    "hidden_layers_actor = [256, 128]"
   ]
  },
  {
   "cell_type": "code",
   "execution_count": 16,
   "metadata": {},
   "outputs": [],
   "source": [
    "hidden_layers_critic = [256, 128]"
   ]
  },
  {
   "cell_type": "code",
   "execution_count": 60,
   "metadata": {},
   "outputs": [],
   "source": [
    "agent = Agent(brain.vector_observation_space_size, brain.vector_action_space_size, hidden_layers_actor, hidden_layers_critic, 1)"
   ]
  },
  {
   "cell_type": "markdown",
   "metadata": {},
   "source": [
    "# Loading Nets and Buffer\n",
    "\n",
    "## The next two cells are needed just if you want to train your DDPG code in multiple steps.\n",
    "## Please run the next two cells just if needed for this purpose."
   ]
  },
  {
   "cell_type": "code",
   "execution_count": 61,
   "metadata": {},
   "outputs": [],
   "source": [
    "agent.actor.load_state_dict(torch.load('checkpoint_actor.pth'))\n",
    "agent.critic.load_state_dict(torch.load('checkpoint_critic.pth'))\n",
    "agent.actor_tg.load_state_dict(torch.load('checkpoint_actor.pth'))\n",
    "agent.critic_tg.load_state_dict(torch.load('checkpoint_critic.pth'))\n",
    "buf = torch.load('checkpoint_buffer.pth')"
   ]
  },
  {
   "cell_type": "code",
   "execution_count": 65,
   "metadata": {},
   "outputs": [],
   "source": [
    "agent.buffer.buffer.extend(buf)"
   ]
  },
  {
   "cell_type": "markdown",
   "metadata": {},
   "source": [
    "# DDPG main"
   ]
  },
  {
   "cell_type": "code",
   "execution_count": 67,
   "metadata": {},
   "outputs": [],
   "source": [
    "def main(num_episodes):\n",
    "    count = 1\n",
    "    scores = []\n",
    "    scores_deque = deque(maxlen = 100)\n",
    "    policy_losses = []\n",
    "    critic_losses = []\n",
    "    \n",
    "    for i in range(901, 901+ num_episodes + 1):\n",
    "        env_info = env.reset(train_mode=True)[brain_name]      # reset the environment    \n",
    "        state = env_info.vector_observations                  # get the current state (for each agent)\n",
    "        score = 0\n",
    "        agent.reset() # Resetting the noice\n",
    "        \n",
    "        while True:\n",
    "            action = agent.act(state)\n",
    "            env_info = env.step(action)[brain_name]           \n",
    "            next_state = env_info.vector_observations         \n",
    "            reward = env_info.rewards\n",
    "\n",
    "            #if reward[0]>0: \n",
    "                #reward = reward[0]*10 + 0.1 \n",
    "            #else:\n",
    "                #reward = 0\n",
    "          \n",
    "            is_done = env_info.local_done   \n",
    "            \n",
    "            agent.step(state, action, reward, next_state, is_done,count)\n",
    "            \n",
    "            #if reward>0: \n",
    "               # reward = 0.1 \n",
    "            #else:\n",
    "                #reward = 0\n",
    "       \n",
    "            #print('episode {} reward {}'.format(i, reward))\n",
    "            score += reward[0]                     \n",
    "            state = next_state \n",
    "            \n",
    "            if np.any(is_done):\n",
    "                scores.append(score)\n",
    "                scores_deque.append(score)\n",
    "                print('At episode {} the score obtained is {}'.format(i, score))\n",
    "      \n",
    "                count += 1\n",
    "                break\n",
    "            \n",
    "            count += 1\n",
    "        \n",
    "        if i%10 == 0:\n",
    "            temp = scores[-10:]\n",
    "            print( 'Score mean ', np.mean(temp))\n",
    "        if i % 100 == 0:\n",
    "            torch.save(agent.actor.state_dict(), 'checkpoint_actor.pth')\n",
    "            torch.save(agent.critic.state_dict(), 'checkpoint_critic.pth')\n",
    "            torch.save(agent.buffer.buffer, 'checkpoint_buffer.pth')\n",
    "            torch.save(scores,'scores_{}'.format(i))\n",
    "            print('\\n### Episode {}\\tAverage Score: {:.2f} ###\\n'.format(i, np.mean(scores_deque)))   \n",
    "\n",
    "        if len(scores_deque) == 100 and (np.mean(scores_deque) >= 30):\n",
    "            print('The environment was solved')\n",
    "            torch.save(agent.actor.state_dict(), 'checkpoint_actor.pth')\n",
    "            torch.save(agent.critic.state_dict(), 'checkpoint_critic.pth')\n",
    "            torch.save(agent.buffer.buffer, 'checkpoint_buffer.pth')\n",
    "            torch.save(scores, 'scores.pth')\n",
    "            return scores                "
   ]
  },
  {
   "cell_type": "code",
   "execution_count": 68,
   "metadata": {},
   "outputs": [
    {
     "name": "stdout",
     "output_type": "stream",
     "text": [
      "At episode 901 the score obtained is 28.049999373033643\n",
      "At episode 902 the score obtained is 31.32999929971993\n",
      "At episode 903 the score obtained is 34.77999922260642\n",
      "At episode 904 the score obtained is 31.739999290555716\n",
      "At episode 905 the score obtained is 29.209999347105622\n",
      "At episode 906 the score obtained is 27.489999385550618\n",
      "At episode 907 the score obtained is 34.409999230876565\n",
      "At episode 908 the score obtained is 24.449999453499913\n",
      "At episode 909 the score obtained is 33.209999257698655\n",
      "At episode 910 the score obtained is 21.33999952301383\n",
      "Score mean  29.6009993384\n",
      "At episode 911 the score obtained is 32.45999927446246\n",
      "At episode 912 the score obtained is 29.279999345541\n",
      "At episode 913 the score obtained is 31.319999299943447\n",
      "At episode 914 the score obtained is 31.359999299049377\n",
      "At episode 915 the score obtained is 35.529999205842614\n",
      "At episode 916 the score obtained is 31.029999306425452\n",
      "At episode 917 the score obtained is 29.889999331906438\n",
      "At episode 918 the score obtained is 31.86999928764999\n",
      "At episode 919 the score obtained is 19.759999558329582\n",
      "At episode 920 the score obtained is 26.33999941125512\n",
      "Score mean  29.883999332\n",
      "At episode 921 the score obtained is 31.149999303743243\n",
      "At episode 922 the score obtained is 34.66999922506511\n",
      "At episode 923 the score obtained is 28.409999364987016\n",
      "At episode 924 the score obtained is 30.889999309554696\n",
      "At episode 925 the score obtained is 28.049999373033643\n",
      "At episode 926 the score obtained is 30.54999931715429\n",
      "At episode 927 the score obtained is 35.069999216124415\n",
      "At episode 928 the score obtained is 23.979999464005232\n",
      "At episode 929 the score obtained is 28.409999364987016\n",
      "At episode 930 the score obtained is 30.86999931000173\n",
      "Score mean  30.2049993249\n",
      "At episode 931 the score obtained is 29.889999331906438\n",
      "At episode 932 the score obtained is 29.419999342411757\n",
      "At episode 933 the score obtained is 25.529999429360032\n",
      "At episode 934 the score obtained is 25.959999419748783\n",
      "At episode 935 the score obtained is 34.869999220594764\n",
      "At episode 936 the score obtained is 30.93999930843711\n",
      "At episode 937 the score obtained is 32.279999278485775\n",
      "At episode 938 the score obtained is 32.279999278485775\n",
      "At episode 939 the score obtained is 29.65999933704734\n",
      "At episode 940 the score obtained is 27.079999394714832\n",
      "Score mean  29.7909993341\n",
      "At episode 941 the score obtained is 31.59999929368496\n",
      "At episode 942 the score obtained is 26.469999408349395\n",
      "At episode 943 the score obtained is 35.15999921411276\n",
      "At episode 944 the score obtained is 33.089999260380864\n",
      "At episode 945 the score obtained is 25.55999942868948\n",
      "At episode 946 the score obtained is 30.579999316483736\n",
      "At episode 947 the score obtained is 34.1599992364645\n",
      "At episode 948 the score obtained is 34.65999922528863\n",
      "At episode 949 the score obtained is 36.04999919421971\n",
      "At episode 950 the score obtained is 24.8599994443357\n",
      "Score mean  31.2189993022\n",
      "At episode 951 the score obtained is 28.30999936722219\n",
      "At episode 952 the score obtained is 28.10999937169254\n",
      "At episode 953 the score obtained is 31.469999296590686\n",
      "At episode 954 the score obtained is 26.109999416396022\n",
      "At episode 955 the score obtained is 32.92999926395714\n",
      "At episode 956 the score obtained is 37.80999915488064\n",
      "At episode 957 the score obtained is 25.569999428465962\n",
      "At episode 958 the score obtained is 33.10999925993383\n",
      "At episode 959 the score obtained is 24.989999441429973\n",
      "At episode 960 the score obtained is 34.04999923892319\n",
      "Score mean  30.2459993239\n",
      "At episode 961 the score obtained is 26.819999400526285\n",
      "At episode 962 the score obtained is 17.329999612644315\n",
      "At episode 963 the score obtained is 25.699999425560236\n",
      "At episode 964 the score obtained is 29.58999933861196\n",
      "At episode 965 the score obtained is 25.939999420195818\n",
      "At episode 966 the score obtained is 32.469999274238944\n",
      "At episode 967 the score obtained is 36.54999918304384\n",
      "At episode 968 the score obtained is 28.14999937079847\n",
      "At episode 969 the score obtained is 26.21999941393733\n",
      "At episode 970 the score obtained is 22.42999949865043\n",
      "Score mean  27.1199993938\n",
      "At episode 971 the score obtained is 28.599999360740185\n",
      "At episode 972 the score obtained is 33.829999243840575\n",
      "At episode 973 the score obtained is 28.259999368339777\n",
      "At episode 974 the score obtained is 31.939999286085367\n",
      "At episode 975 the score obtained is 33.949999241158366\n",
      "At episode 976 the score obtained is 24.77999944612384\n",
      "At episode 977 the score obtained is 29.759999334812164\n",
      "At episode 978 the score obtained is 30.459999319165945\n",
      "At episode 979 the score obtained is 25.039999440312386\n",
      "At episode 980 the score obtained is 28.019999373704195\n",
      "Score mean  29.4639993414\n",
      "At episode 981 the score obtained is 31.889999287202954\n",
      "At episode 982 the score obtained is 32.80999926663935\n",
      "At episode 983 the score obtained is 25.589999428018928\n",
      "At episode 984 the score obtained is 30.659999314695597\n",
      "At episode 985 the score obtained is 33.60999924875796\n",
      "At episode 986 the score obtained is 22.639999493956566\n",
      "At episode 987 the score obtained is 31.59999929368496\n",
      "At episode 988 the score obtained is 35.759999200701714\n",
      "At episode 989 the score obtained is 28.939999353140593\n",
      "At episode 990 the score obtained is 28.949999352917075\n",
      "Score mean  30.244999324\n",
      "At episode 991 the score obtained is 25.429999431595206\n",
      "At episode 992 the score obtained is 24.769999446347356\n",
      "At episode 993 the score obtained is 32.119999282062054\n",
      "At episode 994 the score obtained is 30.54999931715429\n",
      "At episode 995 the score obtained is 29.299999345093966\n",
      "At episode 996 the score obtained is 28.19999936968088\n",
      "At episode 997 the score obtained is 34.70999922417104\n",
      "At episode 998 the score obtained is 24.8599994443357\n",
      "At episode 999 the score obtained is 36.78999917767942\n",
      "At episode 1000 the score obtained is 30.109999326989055\n",
      "Score mean  29.6839993365\n",
      "\n",
      "### Episode 1000\tAverage Score: 29.75 ###\n",
      "\n",
      "At episode 1001 the score obtained is 29.419999342411757\n",
      "At episode 1002 the score obtained is 34.95999921858311\n",
      "At episode 1003 the score obtained is 31.129999304190278\n",
      "At episode 1004 the score obtained is 31.94999928586185\n",
      "At episode 1005 the score obtained is 33.33999925479293\n",
      "At episode 1006 the score obtained is 24.729999447241426\n",
      "At episode 1007 the score obtained is 32.48999927379191\n",
      "At episode 1008 the score obtained is 33.6999992467463\n",
      "At episode 1009 the score obtained is 36.66999918036163\n",
      "At episode 1010 the score obtained is 30.459999319165945\n",
      "Score mean  31.8849992873\n",
      "At episode 1011 the score obtained is 28.379999365657568\n",
      "At episode 1012 the score obtained is 31.069999305531383\n",
      "At episode 1013 the score obtained is 30.969999307766557\n",
      "At episode 1014 the score obtained is 28.15999937057495\n",
      "At episode 1015 the score obtained is 33.249999256804585\n",
      "At episode 1016 the score obtained is 25.36999943293631\n",
      "At episode 1017 the score obtained is 35.419999208301306\n",
      "At episode 1018 the score obtained is 32.67999926954508\n",
      "At episode 1019 the score obtained is 33.09999926015735\n",
      "The environment was solved\n"
     ]
    }
   ],
   "source": [
    "scores = main(600)"
   ]
  },
  {
   "cell_type": "code",
   "execution_count": 69,
   "metadata": {},
   "outputs": [],
   "source": [
    "score = score_900 + scores"
   ]
  },
  {
   "cell_type": "markdown",
   "metadata": {},
   "source": [
    "# Plotting Section\n",
    "\n",
    "## To plot the rewards"
   ]
  },
  {
   "cell_type": "code",
   "execution_count": 30,
   "metadata": {},
   "outputs": [],
   "source": [
    "import matplotlib.pyplot as plt"
   ]
  },
  {
   "cell_type": "code",
   "execution_count": 70,
   "metadata": {},
   "outputs": [
    {
     "data": {
      "image/png": "[encoded data removed]",
      "text/plain": [
       "<matplotlib.figure.Figure at 0x7f6200102208>"
      ]
     },
     "metadata": {
      "needs_background": "light"
     },
     "output_type": "display_data"
    }
   ],
   "source": [
    "fig = plt.figure()\n",
    "ax = fig.add_subplot(111)\n",
    "plt.plot(np.arange(1, len(score)+1), score)\n",
    "plt.ylabel('Score')\n",
    "plt.xlabel('Episode #')\n",
    "plt.show()"
   ]
  },
  {
   "cell_type": "markdown",
   "metadata": {},
   "source": [
    "# The next cells are meant as a step towards D4PG. If you want to use them be sure of running:\n",
    "# 1 Prio Buffer instead of the Buffer section\n",
    "# 2 Beta Function\n",
    "# 3 Agent for Replay instead of Agent\n",
    "# 4 Main instead of Main for Replay"
   ]
  },
  {
   "cell_type": "markdown",
   "metadata": {},
   "source": [
    "# Prio Buffer"
   ]
  },
  {
   "cell_type": "code",
   "execution_count": 11,
   "metadata": {},
   "outputs": [],
   "source": [
    "class Replay_Buffer(object):\n",
    "    def __init__(self, capacity, batch_size, prob_alpha=0.6):\n",
    "        self.prob_alpha = prob_alpha\n",
    "        self.capacity   = capacity\n",
    "        self.batch_size = batch_size\n",
    "        self.buffer     = []\n",
    "        self.pos        = 0\n",
    "        self.priorities = np.zeros((capacity,), dtype=np.float32)\n",
    "    \n",
    "    def add(self, state, action, reward, next_state, is_done):\n",
    "        \n",
    "        max_prio = self.priorities.max() if self.buffer else 1.0\n",
    "        \n",
    "        \n",
    "        if len(self.buffer) < self.capacity:\n",
    "            self.buffer.append((state, action, reward, next_state, is_done))\n",
    "        else:\n",
    "            self.buffer[self.pos] = (state, action, reward, next_state, is_done)\n",
    "        \n",
    "        self.priorities[self.pos] = max_prio\n",
    "        self.pos = (self.pos + 1) % self.capacity\n",
    "\n",
    "    def sample(self,  beta=0.4):\n",
    "        if len(self.buffer) == self.capacity:\n",
    "            prios = self.priorities\n",
    "        else:\n",
    "            prios = self.priorities[:self.pos]\n",
    "        \n",
    "        probs  = prios ** self.prob_alpha\n",
    "        probs /= probs.sum()\n",
    "        \n",
    "        indices = np.random.choice(len(self.buffer), self.batch_size, p=probs)\n",
    "        samples = [self.buffer[idx] for idx in indices]\n",
    "        \n",
    "        total    = len(self.buffer)\n",
    "        weights  = (total * probs[indices]) ** (-beta)\n",
    "        weights /= weights.max()\n",
    "        weights  = np.array(weights, dtype=np.float32)\n",
    "        \n",
    "        states, actions, rewards, next_states, is_dones = zip(*samples)\n",
    "        \n",
    "        states = torch.FloatTensor(states).view(self.batch_size, -1).to(device)\n",
    "        actions = torch.FloatTensor(actions).view(self.batch_size, -1).to(device)\n",
    "        rewards = torch.FloatTensor(rewards).view(self.batch_size, -1).to(device)\n",
    "        next_states = torch.FloatTensor(next_states).view(self.batch_size, -1).to(device)\n",
    "        is_dones = torch.FloatTensor(np.float32(is_dones)).view(self.batch_size, -1).to(device)\n",
    "        weights = torch.FloatTensor(weights).view(self.batch_size, -1).to(device)\n",
    "    \n",
    "        return (states, actions, rewards, next_states, is_dones, indices, weights)\n",
    "    \n",
    "    def update_priorities(self, batch_indices, batch_priorities):\n",
    "        for idx, prio in zip(batch_indices, batch_priorities):\n",
    "            self.priorities[idx] = prio\n",
    "\n",
    "    def __len__(self):\n",
    "        return len(self.buffer)"
   ]
  },
  {
   "cell_type": "markdown",
   "metadata": {},
   "source": [
    "# Beta Function"
   ]
  },
  {
   "cell_type": "code",
   "execution_count": 12,
   "metadata": {},
   "outputs": [],
   "source": [
    "def beta_function (number, beta_start = 0.4):\n",
    "    return min(1.0, beta_start + number * (1.0 - beta_start) / 1000)"
   ]
  },
  {
   "cell_type": "markdown",
   "metadata": {},
   "source": [
    "# Agent_for_replay"
   ]
  },
  {
   "cell_type": "code",
   "execution_count": 15,
   "metadata": {},
   "outputs": [],
   "source": [
    "class Agent():\n",
    "    def __init__(self, input_size, output_size, hidden_sizes_actor, hidden_sizes_critic, random_seed):\n",
    "        \n",
    "        self.input_size = input_size\n",
    "        self.output_size = output_size\n",
    "        self.hidden_sizes_actor = hidden_sizes_actor\n",
    "        self.hidden_sizes_critic = hidden_sizes_critic\n",
    "        self.seed = random.seed(random_seed)\n",
    "        \n",
    "        # Notice. It is not important to initialize the actor and the critic targets since by default actor and actor_tg, and similarly critic and critic_tg,\n",
    "        # have the same weights\n",
    "        self.actor = Actor(self.input_size, self.hidden_sizes_actor, self.output_size, random_seed).to(device)\n",
    "        self.actor_tg = Actor(self.input_size, self.hidden_sizes_actor, self.output_size, random_seed).to(device)\n",
    "        \n",
    "        self.critic = Critic(self.input_size, self.hidden_sizes_critic, self.output_size, random_seed).to(device)\n",
    "        self.critic_tg = Critic(self.input_size, self.hidden_sizes_critic, self.output_size, random_seed).to(device)\n",
    "        \n",
    "        self.actor_optimizer = optim.Adam (self.actor.parameters(), lr = LR_ACTOR)\n",
    "        self.critic_optimizer = optim.Adam (self.critic.parameters(), lr = LR_CRITIC, weight_decay = WEIGHT_DECAY)\n",
    "        \n",
    "        self.noise = OUNoise(self.output_size, random_seed)\n",
    "        self.buffer = Replay_Buffer(BUFFER_SIZE, BATCH_SIZE, random_seed)\n",
    "    \n",
    "    def act(self, state, parameter_noise = True):\n",
    "        state = torch.FloatTensor(state).to(device)\n",
    "        self.actor.eval()\n",
    "        \n",
    "        with torch.no_grad():\n",
    "            action = self.actor(state).cpu().data.numpy()\n",
    "        \n",
    "        self.actor.train()\n",
    "        \n",
    "        if parameter_noise == True:\n",
    "            action += self.noise.sample()\n",
    "            \n",
    "        return  np.clip(action, -1, 1)\n",
    "    \n",
    "    def reset(self):\n",
    "        self.noise.reset()\n",
    "        \n",
    "    def step(self, state, action, reward, next_state, is_done, count, beta):\n",
    "        self.buffer.add(state, action, reward, next_state, is_done)\n",
    "        \n",
    "        if (len(self.buffer) > BATCH_SIZE) and (count % UPDATE_FREQUENCY == 0):\n",
    "\n",
    "            policy_loss = 0\n",
    "            critic_loss = 0\n",
    "            \n",
    "            for i in range(NUM_UPDATES):\n",
    "                batch = self.buffer.sample(beta)\n",
    "                policy_loss_temp, critic_loss_temp = self.learn(batch, GAMMA, beta)\n",
    "                \n",
    "                policy_loss += policy_loss_temp\n",
    "                critic_loss += critic_loss_temp\n",
    "            \n",
    "            return policy_loss, critic_loss\n",
    "        return None, None\n",
    "    \n",
    "    def learn(self, batch, gamma, beta):\n",
    "        states = batch[0]\n",
    "        actions = batch[1]\n",
    "        rewards = batch[2]\n",
    "        next_states = batch[3]\n",
    "        is_dones = batch[4]\n",
    "        indices = batch[5]\n",
    "        weights = batch[6]\n",
    "        #print(rewards.dtype)\n",
    "        \n",
    "        # UPDATING CRITIC\n",
    "\n",
    "        # Target Values of the Critic\n",
    "        \n",
    "        next_actions = self.actor_tg(next_states)\n",
    "        Q_next_states = self.critic_tg(next_states, next_actions)\n",
    "        Q_targets = rewards + GAMMA * Q_next_states * (1.0 - is_dones)\n",
    "        \n",
    "        # Q_values \n",
    "        \n",
    "        Q_values = self.critic(states, actions)\n",
    "        critic_loss = (Q_values - Q_targets.detach()).pow(2) * weights\n",
    "        prios = critic_loss + 1e-5\n",
    "        critic_loss  = critic_loss.mean()\n",
    "        \n",
    "        # Updates\n",
    "        \n",
    "        self.critic_optimizer.zero_grad()\n",
    "        critic_loss.backward()\n",
    "        torch.nn.utils.clip_grad_norm(self.critic.parameters(), 1)\n",
    "        self.buffer.update_priorities(indices, prios.data.cpu().numpy())\n",
    "        self.critic_optimizer.step()\n",
    "        \n",
    "        # UPDATING POLICY\n",
    "        \n",
    "        actions = self.actor(states)\n",
    "        Q_targets = self.critic(states, actions)\n",
    "        policy_loss = -Q_targets.mean()\n",
    "        \n",
    "        self.actor_optimizer.zero_grad()\n",
    "        policy_loss.backward()\n",
    "        torch.nn.utils.clip_grad_norm(self.actor.parameters(), 1)\n",
    "        self.actor_optimizer.step()\n",
    "        \n",
    "        # SOFT_UPDATE\n",
    "        \n",
    "        self.soft_update(self.actor, self.actor_tg, TAU)\n",
    "        self.soft_update(self.critic, self.critic_tg, TAU)\n",
    "        \n",
    "        return policy_loss, critic_loss\n",
    "        \n",
    "    def soft_update(self, net, net_tg, tau):\n",
    "        \n",
    "        for param, param_tg in zip(net.parameters(), net_tg.parameters()):\n",
    "            param_tg.data.copy_( param.data + TAU * (param_tg.data - param.data))\n",
    "            \n",
    "        return       "
   ]
  },
  {
   "cell_type": "markdown",
   "metadata": {},
   "source": [
    "# Main For Replay"
   ]
  },
  {
   "cell_type": "code",
   "execution_count": 73,
   "metadata": {},
   "outputs": [],
   "source": [
    "def main(num_episodes):\n",
    "    count = 1\n",
    "    scores = []\n",
    "    scores_deque = deque(maxlen = 100)\n",
    "    policy_losses = []\n",
    "    critic_losses = []\n",
    "    \n",
    "    for i in range(1, num_episodes + 1):\n",
    "        env_info = env.reset(train_mode=True)[brain_name]      # reset the environment    \n",
    "        state = env_info.vector_observations                  # get the current state (for each agent)\n",
    "        score = 0\n",
    "        agent.reset() # Resetting the noice\n",
    "        \n",
    "        while True:\n",
    "            action = agent.act(state)\n",
    "            env_info = env.step(action)[brain_name]           \n",
    "            next_state = env_info.vector_observations         \n",
    "            reward = env_info.rewards\n",
    "            \n",
    "            # Normalizing  the reward since it was not spitting out the right one\n",
    "            if reward[0]>0: \n",
    "                reward = 1 + reward[0]*10 \n",
    "            else:\n",
    "                reward = 0.0\n",
    "   \n",
    "            is_done = env_info.local_done   \n",
    "            \n",
    "            beta = beta_function(count)\n",
    "            agent.step(state, action, reward, next_state, is_done, count, beta)\n",
    "            \n",
    "            \n",
    "       \n",
    "            #print('episode {} reward {}'.format(i, reward))\n",
    "            \n",
    "            if reward > 0:\n",
    "                reward = 0.1\n",
    "                \n",
    "            score += reward                     \n",
    "            state = next_state \n",
    "            \n",
    "            if np.any(is_done):\n",
    "                scores.append(score)\n",
    "                scores_deque.append(score)\n",
    "                print('At episode {} the score obtained is {}'.format(i, score))\n",
    "      \n",
    "                count += 1\n",
    "                break\n",
    "            \n",
    "            count += 1\n",
    "            \n",
    "        if i % 100 == 0:\n",
    "            torch.save(agent.actor.state_dict(), 'checkpoint_actor.pth')\n",
    "            torch.save(agent.critic.state_dict(), 'checkpoint_critic.pth')\n",
    "            torch.save(agent.buffer, 'checkpoint_buffer.pth')\n",
    "            print('\\n### Episode {}\\tAverage Score: {:.2f} ###\\n'.format(i, np.mean(scores_deque)))   \n",
    "\n",
    "        if len(scores_deque) == 100 and (np.mean(scores_deque) >= 30):\n",
    "            print('The environment was solved')\n",
    "            torch.save(agent.actor.state_dict(), 'checkpoint_actor.pth')\n",
    "            torch.save(agent.critic.state_dict(), 'checkpoint_critic.pth')\n",
    "            return scores          "
   ]
  }
 ],
 "metadata": {
  "kernelspec": {
   "display_name": "Python 3",
   "language": "python",
   "name": "python3"
  },
  "language_info": {
   "codemirror_mode": {
    "name": "ipython",
    "version": 3
   },
   "file_extension": ".py",
   "mimetype": "text/x-python",
   "name": "python",
   "nbconvert_exporter": "python",
   "pygments_lexer": "ipython3",
   "version": "3.6.3"
  }
 },
 "nbformat": 4,
 "nbformat_minor": 2
}
